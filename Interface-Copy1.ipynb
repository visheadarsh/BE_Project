{
 "cells": [
  {
   "cell_type": "code",
   "execution_count": 1,
   "id": "53883497",
   "metadata": {},
   "outputs": [],
   "source": [
    "import pandas as pd\n",
    "import requests\n",
    "import numpy as np"
   ]
  },
  {
   "cell_type": "code",
   "execution_count": 2,
   "id": "b14f4fc8",
   "metadata": {},
   "outputs": [],
   "source": [
    "from sklearn.neighbors import NearestNeighbors"
   ]
  },
  {
   "cell_type": "code",
   "execution_count": null,
   "id": "697ad7c9",
   "metadata": {},
   "outputs": [],
   "source": [
    "given_age = int(input(\"Enter your age: \"))\n",
    "input_gender = input(\"Enter your gender (Male/Female): \")"
   ]
  },
  {
   "cell_type": "code",
   "execution_count": null,
   "id": "4f334f3b",
   "metadata": {},
   "outputs": [],
   "source": [
    "User_data = pd.read_csv('Customers_Data.csv')\n",
    "User_data"
   ]
  },
  {
   "cell_type": "code",
   "execution_count": null,
   "id": "acab8ff2",
   "metadata": {},
   "outputs": [],
   "source": [
    "User_data['Sub-Category'] = User_data['Sub-Category'].astype(str)\n",
    "User_data['Sub-Category'].unique()"
   ]
  },
  {
   "cell_type": "code",
   "execution_count": null,
   "id": "daf38765",
   "metadata": {},
   "outputs": [],
   "source": [
    "interest_to_category = {\n",
    "    'Home Comfort': 'Quality Furniture',\n",
    "    'Latest Tech': 'Advanced Smartphones',\n",
    "    'Money Management': 'Business and Finance',\n",
    "    'Efficient Work': 'Productivity Laptops',\n",
    "    'Popular Choices': 'Bestsellers',\n",
    "    'Home Decoration': 'Wall Art',\n",
    "    'Premium Devices': 'High-end smartphones',\n",
    "    'Personal Growth': 'Self-Help',\n",
    "    'Cooking Tools': 'Kitchen Gadgets',\n",
    "    'Elegant Clothing': 'Formal Attire',\n",
    "    'Contemporary Style': 'Modern Furniture',\n",
    "    'Work Essentials': 'Professional Laptops',\n",
    "    'Career Growth': 'Career Development Books',\n",
    "    'Teen Reading': 'Young Adult Fiction',\n",
    "    'Teen Comfort': 'Bedding (Teen-themed bedding sets)',\n",
    "    'Gaming Experience': 'Gaming Headsets',\n",
    "    'Fashionable Tops': 'Trendy Tops',\n",
    "    'Student Essentials': 'Laptops for students',\n",
    "    'Budget Phones': 'Entry-level smartphones',\n",
    "    'Study Essentials': 'Study Desks',\n",
    "    'Learning Materials': 'Educational Books',\n",
    "    'Easy-to-use Phones': 'User-Friendly Smartphones',\n",
    "    'Timeless Reads': 'Classic Literature',\n",
    "    'Dependable Devices': 'Reliable Laptops',\n",
    "    'Financial Security': 'Retirement Planning',\n",
    "    'Comfortable Shoes': 'Comfortable Footwear',\n",
    "    'Comfortable Audio': 'Comfortable Headphones',\n",
    "    'Timeless Fashion': 'Classic Wardrobe Staples',\n",
    "    'Work-friendly Clothing': 'Business Casual Outfits',\n",
    "    'Quiet Enjoyment': 'Noise-Canceling Headphones',\n",
    "    'Elegant Fashion': 'Sophisticated Outfits',\n",
    "    'Luxurious Decor': 'Elegant Furniture',\n",
    "    'Art Appreciation': 'Fine Artwork',\n",
    "    'Time-saving Tools': 'Efficient Appliances',\n",
    "    'Casual Footwear': 'Sneakers',\n",
    "    'Everyday Denim': 'Jeans',\n",
    "    'Relaxed Fashion': 'Casual Wear',\n",
    "    'Wireless Audio': 'Wireless Earbuds',\n",
    "    'Historical Knowledge': 'History',\n",
    "    'Parenting Tips': 'Parenting Guides',\n",
    "    'Cooking': 'Kitchen Appliances',\n",
    "    'Trendy Dresses': 'Fashionable Dresses',\n",
    "    'Modern Reading': 'Contemporary Fiction',\n",
    "    'Timeless Accessories': 'Classic Accessories',\n",
    "    'Cozy Fashion': 'Comfortable Loungewear',\n",
    "    'Active Footwear': 'Running Shoes',\n",
    "    'Creative Home Decor': 'Artistic Decor',\n",
    "    'Wall Decor': 'Decorative posters',\n",
    "    'Graphic Fashion': 'Graphic T-shirts',\n",
    "    'Visual Storytelling': 'Graphic Novels'\n",
    "}"
   ]
  },
  {
   "cell_type": "code",
   "execution_count": null,
   "id": "5595bf33",
   "metadata": {
    "scrolled": true
   },
   "outputs": [],
   "source": [
    "Items_Dataset= pd.read_csv(\"Kitchen and Dining-Copy1.csv\")\n",
    "Items_Dataset"
   ]
  },
  {
   "cell_type": "code",
   "execution_count": null,
   "id": "5b6d3934",
   "metadata": {},
   "outputs": [],
   "source": [
    "# given_age = int(input(\"Enter your age: \"))\n",
    "# input_gender = input(\"Enter your gender (Male/Female): \")"
   ]
  },
  {
   "cell_type": "code",
   "execution_count": null,
   "id": "ee495871",
   "metadata": {},
   "outputs": [],
   "source": [
    "# given_age= 30\n",
    "# input_gender='Female'\n",
    "filtered_df = User_data[(User_data['Age'] >= given_age - 3) & (User_data['Age'] <= given_age + 3)]\n",
    "filtered_df = User_data[(User_data['Gender'] == input_gender)]"
   ]
  },
  {
   "cell_type": "code",
   "execution_count": null,
   "id": "f28c1581",
   "metadata": {},
   "outputs": [],
   "source": [
    "filtered_df"
   ]
  },
  {
   "cell_type": "code",
   "execution_count": null,
   "id": "3a20dfe5",
   "metadata": {},
   "outputs": [],
   "source": [
    "user_interest = 'Cooking'\n",
    "product_category = interest_to_category.get(user_interest, 'Not Found')\n",
    "print(f'The product category for interest \"{user_interest}\" is: {product_category}')"
   ]
  },
  {
   "cell_type": "code",
   "execution_count": null,
   "id": "69ba8200",
   "metadata": {},
   "outputs": [],
   "source": [
    "filtered_df= filtered_df[(filtered_df['Sub-Category']== product_category)]"
   ]
  },
  {
   "cell_type": "code",
   "execution_count": null,
   "id": "6d98c828",
   "metadata": {},
   "outputs": [],
   "source": [
    "filtered_df"
   ]
  },
  {
   "cell_type": "code",
   "execution_count": null,
   "id": "b4eae59b",
   "metadata": {},
   "outputs": [],
   "source": [
    "filtered_df['Sub-Category'].unique()"
   ]
  },
  {
   "cell_type": "code",
   "execution_count": null,
   "id": "3211581e",
   "metadata": {},
   "outputs": [],
   "source": [
    "# new_column_values = {'home & kitchen': product_category}\n",
    "# Items_Dataset['main_category'] = Items_Dataset['main_category'].map(new_column_values)"
   ]
  },
  {
   "cell_type": "code",
   "execution_count": null,
   "id": "1b58499c",
   "metadata": {},
   "outputs": [],
   "source": [
    "Items_Dataset"
   ]
  },
  {
   "cell_type": "code",
   "execution_count": null,
   "id": "98a296ac",
   "metadata": {},
   "outputs": [],
   "source": [
    "# sorted_products = Items_Dataset.sort_values(by='ratings', ascending=False)"
   ]
  },
  {
   "cell_type": "code",
   "execution_count": null,
   "id": "3135cfa9",
   "metadata": {
    "scrolled": true
   },
   "outputs": [],
   "source": [
    "# sorted_products"
   ]
  },
  {
   "cell_type": "code",
   "execution_count": null,
   "id": "6603c778",
   "metadata": {},
   "outputs": [],
   "source": [
    "from sklearn.decomposition import NMF\n",
    "from nimfa import Nmf\n",
    "from sklearn.impute import SimpleImputer"
   ]
  },
  {
   "cell_type": "code",
   "execution_count": null,
   "id": "e9660921",
   "metadata": {
    "scrolled": true
   },
   "outputs": [],
   "source": [
    "merged_data = pd.merge(Items_Dataset, filtered_df, on='Age', how='inner')\n",
    "merged_data = merged_data.drop_duplicates(subset='name')\n",
    "merged_data"
   ]
  },
  {
   "cell_type": "code",
   "execution_count": null,
   "id": "7745b73e",
   "metadata": {},
   "outputs": [],
   "source": [
    "merged_data['Age'] = pd.to_numeric(merged_data['Age'], errors='coerce')\n",
    "merged_data.dropna(subset=['Age', 'ratings'], inplace=True)\n",
    "X_filtered = merged_data[['Age', 'ratings']].values"
   ]
  },
  {
   "cell_type": "code",
   "execution_count": null,
   "id": "edb128dd",
   "metadata": {},
   "outputs": [],
   "source": [
    "from sklearn.decomposition import NMF"
   ]
  },
  {
   "cell_type": "code",
   "execution_count": null,
   "id": "fc7d1e3c",
   "metadata": {},
   "outputs": [],
   "source": [
    "merged_data['ratings'] = pd.to_numeric(merged_data['ratings'], errors='coerce')\n",
    "merged_data['Age'] = pd.to_numeric(merged_data['Age'], errors='coerce')"
   ]
  },
  {
   "cell_type": "code",
   "execution_count": null,
   "id": "94328875",
   "metadata": {},
   "outputs": [],
   "source": [
    "imputer = SimpleImputer(strategy='mean')\n",
    "merged_data['Age'] = imputer.fit_transform(merged_data[['Age']])"
   ]
  },
  {
   "cell_type": "code",
   "execution_count": null,
   "id": "34ca6821",
   "metadata": {},
   "outputs": [],
   "source": [
    "input_age = given_age\n",
    "\n",
    "# Create feature matrix\n",
    "X = merged_data[['Age', 'ratings']].values\n",
    "\n",
    "# Filter rows within age range (+/- 3 years from the input age)\n",
    "age_lower = input_age - 3\n",
    "age_upper = input_age + 3\n",
    "filtered_data = merged_data[(merged_data['Age'] >= age_lower) & (merged_data['Age'] <= age_upper)]\n"
   ]
  },
  {
   "cell_type": "code",
   "execution_count": null,
   "id": "aef4fa8c",
   "metadata": {},
   "outputs": [],
   "source": [
    "filtered_data['Age'] = pd.to_numeric(filtered_data['Age'], errors='coerce')\n",
    "filtered_data['ratings'] = pd.to_numeric(filtered_data['ratings'], errors='coerce')"
   ]
  },
  {
   "cell_type": "code",
   "execution_count": null,
   "id": "6014f4d8",
   "metadata": {},
   "outputs": [],
   "source": [
    "X_filtered = filtered_data[['Age', 'ratings']].values"
   ]
  },
  {
   "cell_type": "code",
   "execution_count": null,
   "id": "371dd801",
   "metadata": {},
   "outputs": [],
   "source": [
    "from sklearn.pipeline import Pipeline"
   ]
  },
  {
   "cell_type": "code",
   "execution_count": null,
   "id": "d1347939",
   "metadata": {},
   "outputs": [],
   "source": [
    "columns_to_impute = ['Age', 'ratings']\n",
    "\n",
    "# Create a pipeline with imputation and NMF\n",
    "pipeline = Pipeline([\n",
    "    ('imputer', SimpleImputer(strategy='mean')),\n",
    "    ('nmf', NMF(n_components=5, init='random', random_state=42)),\n",
    "])"
   ]
  },
  {
   "cell_type": "code",
   "execution_count": null,
   "id": "bb35f4bd",
   "metadata": {},
   "outputs": [],
   "source": [
    "U_ratings_filtered = pipeline.fit_transform(filtered_data[columns_to_impute])\n",
    "\n",
    "# Continue with the rest of your code...\n",
    "new_user_vector_filtered = np.array([0] * 4 + [1])  # Assuming one-hot encoded vector for age\n",
    "combined_recommendations_filtered = np.dot(U_ratings_filtered, new_user_vector_filtered)"
   ]
  },
  {
   "cell_type": "code",
   "execution_count": null,
   "id": "6c19eca1",
   "metadata": {},
   "outputs": [],
   "source": [
    "combined_recommendations_filtered"
   ]
  },
  {
   "cell_type": "code",
   "execution_count": null,
   "id": "2b6ec17b",
   "metadata": {},
   "outputs": [],
   "source": [
    "top_10_indices = np.argsort(combined_recommendations_filtered)[::-1][:10]\n",
    "\n",
    "# Get the product names based on the indices\n",
    "top_10_products = filtered_data['name'].iloc[top_10_indices]"
   ]
  },
  {
   "cell_type": "code",
   "execution_count": null,
   "id": "dc0e06a9",
   "metadata": {},
   "outputs": [],
   "source": [
    "# Print the top 10 recommended products\n",
    "print(\"Top 10 Recommended Products:\")\n",
    "for i, product in enumerate(top_10_products, 1):\n",
    "    print(f\"{i}. {product}\")"
   ]
  },
  {
   "cell_type": "code",
   "execution_count": null,
   "id": "6941db16",
   "metadata": {},
   "outputs": [],
   "source": []
  }
 ],
 "metadata": {
  "kernelspec": {
   "display_name": "Python 3 (ipykernel)",
   "language": "python",
   "name": "python3"
  },
  "language_info": {
   "codemirror_mode": {
    "name": "ipython",
    "version": 3
   },
   "file_extension": ".py",
   "mimetype": "text/x-python",
   "name": "python",
   "nbconvert_exporter": "python",
   "pygments_lexer": "ipython3",
   "version": "3.9.12"
  }
 },
 "nbformat": 4,
 "nbformat_minor": 5
}
